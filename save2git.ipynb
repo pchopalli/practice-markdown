{
  "nbformat": 4,
  "nbformat_minor": 0,
  "metadata": {
    "colab": {
      "name": "save2git.ipynb",
      "provenance": [],
      "collapsed_sections": [],
      "authorship_tag": "ABX9TyOKWm41wQn87UWSzMpGzFNo",
      "include_colab_link": true
    },
    "kernelspec": {
      "name": "python3",
      "display_name": "Python 3"
    },
    "language_info": {
      "name": "python"
    }
  },
  "cells": [
    {
      "cell_type": "markdown",
      "metadata": {
        "id": "view-in-github",
        "colab_type": "text"
      },
      "source": [
        "<a href=\"https://colab.research.google.com/github/pchopalli/practice-markdown/blob/main/save2git.ipynb\" target=\"_parent\"><img src=\"https://colab.research.google.com/assets/colab-badge.svg\" alt=\"Open In Colab\"/></a>"
      ]
    },
    {
      "cell_type": "markdown",
      "source": [
        "## Check this code into Github\n",
        "<p> Cool feature </p>"
      ],
      "metadata": {
        "id": "mOnKUOCa28nT"
      }
    },
    {
      "cell_type": "code",
      "execution_count": 5,
      "metadata": {
        "id": "VknAa4yb2gM9"
      },
      "outputs": [],
      "source": [
        "# Testing  \n",
        "def sq(n):\n",
        "    \"\"\" Square root of given value \"\"\"\n",
        "    return n**2"
      ]
    },
    {
      "cell_type": "code",
      "source": [
        "print(sq(3.66))"
      ],
      "metadata": {
        "colab": {
          "base_uri": "https://localhost:8080/"
        },
        "id": "9XRDMia-20v_",
        "outputId": "62a337f6-c481-464f-d25f-8af60741d55c"
      },
      "execution_count": 6,
      "outputs": [
        {
          "output_type": "stream",
          "name": "stdout",
          "text": [
            "13.395600000000002\n"
          ]
        }
      ]
    },
    {
      "cell_type": "code",
      "source": [
        ""
      ],
      "metadata": {
        "id": "RdH2BT5i222m"
      },
      "execution_count": null,
      "outputs": []
    }
  ]
}